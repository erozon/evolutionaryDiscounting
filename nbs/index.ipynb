{
 "cells": [
  {
   "cell_type": "code",
   "execution_count": null,
   "metadata": {},
   "outputs": [],
   "source": [
    "#| hide\n",
    "from evolutionaryDiscounting.core import *"
   ]
  },
  {
   "cell_type": "markdown",
   "metadata": {},
   "source": [
    "# Evolutionary Discounting\n",
    "\n",
    "> Supporting online material for The Evolution of Patience"
   ]
  },
  {
   "cell_type": "markdown",
   "metadata": {},
   "source": [
    "During my masters at UBC, I researched the evolutionary origins of time preference (the evolution of patience) under Dr. Christoph Hauert. The key results are summarized in this repo, "
   ]
  }
 ],
 "metadata": {
  "kernelspec": {
   "display_name": "python3",
   "language": "python",
   "name": "python3"
  }
 },
 "nbformat": 4,
 "nbformat_minor": 4
}
